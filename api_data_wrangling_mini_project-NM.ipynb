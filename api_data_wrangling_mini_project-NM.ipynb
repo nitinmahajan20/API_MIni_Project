{
 "cells": [
  {
   "cell_type": "markdown",
   "metadata": {},
   "source": [
    "This exercise will require you to pull some data from the Qunadl API. Qaundl is currently the most widely used aggregator of financial market data."
   ]
  },
  {
   "cell_type": "markdown",
   "metadata": {},
   "source": [
    "As a first step, you will need to register a free account on the http://www.quandl.com website."
   ]
  },
  {
   "cell_type": "markdown",
   "metadata": {},
   "source": [
    "After you register, you will be provided with a unique API key, that you should store:"
   ]
  },
  {
   "cell_type": "code",
   "execution_count": 1,
   "metadata": {},
   "outputs": [],
   "source": [
    "# Store the API key as a string - according to PEP8, constants are always named in all upper case\n",
    "API_KEY = ''"
   ]
  },
  {
   "cell_type": "markdown",
   "metadata": {},
   "source": [
    "Qaundl has a large number of data sources, but, unfortunately, most of them require a Premium subscription. Still, there are also a good number of free datasets."
   ]
  },
  {
   "cell_type": "markdown",
   "metadata": {},
   "source": [
    "For this mini project, we will focus on equities data from the Frankfurt Stock Exhange (FSE), which is available for free. We'll try and analyze the stock prices of a company called Carl Zeiss Meditec, which manufactures tools for eye examinations, as well as medical lasers for laser eye surgery: https://www.zeiss.com/meditec/int/home.html. The company is listed under the stock ticker AFX_X."
   ]
  },
  {
   "cell_type": "markdown",
   "metadata": {},
   "source": [
    "You can find the detailed Quandl API instructions here: https://docs.quandl.com/docs/time-series"
   ]
  },
  {
   "cell_type": "markdown",
   "metadata": {},
   "source": [
    "While there is a dedicated Python package for connecting to the Quandl API, we would prefer that you use the *requests* package, which can be easily downloaded using *pip* or *conda*. You can find the documentation for the package here: http://docs.python-requests.org/en/master/ "
   ]
  },
  {
   "cell_type": "markdown",
   "metadata": {},
   "source": [
    "Finally, apart from the *requests* package, you are encouraged to not use any third party Python packages, such as *pandas*, and instead focus on what's available in the Python Standard Library (the *collections* module might come in handy: https://pymotw.com/3/collections/ ).\n",
    "Also, since you won't have access to DataFrames, you are encouraged to us Python's native data structures - preferably dictionaries, though some questions can also be answered using lists.\n",
    "You can read more on these data structures here: https://docs.python.org/3/tutorial/datastructures.html"
   ]
  },
  {
   "cell_type": "markdown",
   "metadata": {},
   "source": [
    "Keep in mind that the JSON responses you will be getting from the API map almost one-to-one to Python's dictionaries. Unfortunately, they can be very nested, so make sure you read up on indexing dictionaries in the documentation provided above."
   ]
  },
  {
   "cell_type": "code",
   "execution_count": 2,
   "metadata": {},
   "outputs": [],
   "source": [
    "# First, import the relevant modules\n",
    "import requests"
   ]
  },
  {
   "cell_type": "code",
   "execution_count": 3,
   "metadata": {},
   "outputs": [],
   "source": [
    "# Now, call the Quandl API and pull out a small sample of the data (only one day) to get a glimpse\n",
    "# into the JSON structure that will be returned\n",
    "url = \"https://www.quandl.com/api/v3/datasets/FSE/AFX_X/data.json?&limit=1&api_key=\" + API_KEY\n",
    "req = requests.get(url)"
   ]
  },
  {
   "cell_type": "code",
   "execution_count": 4,
   "metadata": {},
   "outputs": [
    {
     "data": {
      "text/plain": [
       "'{\"dataset_data\":{\"limit\":1,\"transform\":null,\"column_index\":null,\"column_names\":[\"Date\",\"Open\",\"High\",\"Low\",\"Close\",\"Change\",\"Traded Volume\",\"Turnover\",\"Last Price of the Day\",\"Daily Traded Units\",\"Daily Turnover\"],\"start_date\":\"2000-06-07\",\"end_date\":\"2019-09-09\",\"frequency\":\"daily\",\"data\":[[\"2019-09-09\",109.1,109.7,105.7,105.7,null,86187.0,9187726.0,null,null,null]],\"collapse\":null,\"order\":null}}'"
      ]
     },
     "execution_count": 4,
     "metadata": {},
     "output_type": "execute_result"
    }
   ],
   "source": [
    "# Inspect the JSON structure of the object you created, and take note of how nested it is,\n",
    "# as well as the overall structure\n",
    "req.text"
   ]
  },
  {
   "cell_type": "markdown",
   "metadata": {},
   "source": [
    "These are your tasks for this mini project:\n",
    "\n",
    "1. Collect data from the Franfurt Stock Exchange, for the ticker AFX_X, for the whole year 2017 (keep in mind that the date format is YYYY-MM-DD).\n",
    "2. Convert the returned JSON object into a Python dictionary.\n",
    "3. Calculate what the highest and lowest opening prices were for the stock in this period.\n",
    "4. What was the largest change in any one day (based on High and Low price)?\n",
    "5. What was the largest change between any two days (based on Closing Price)?\n",
    "6. What was the average daily trading volume during this year?\n",
    "7. (Optional) What was the median trading volume during this year. (Note: you may need to implement your own function for calculating the median.)"
   ]
  },
  {
   "cell_type": "markdown",
   "metadata": {
    "collapsed": true
   },
   "source": [
    "__TASK. 1 - Collect data from the Franfurt Stock Exchange, for the ticker AFX_X, for the whole year 2017 (keep in mind that the date format is YYYY-MM-DD)__"
   ]
  },
  {
   "cell_type": "code",
   "execution_count": 5,
   "metadata": {},
   "outputs": [],
   "source": [
    "url = \"https://www.quandl.com/api/v3/datasets/FSE/AFX_X/data.json?\" + \\\n",
    "      \"&start_date=2017-01-01&end_date=2017-12-31&api_key=\" + API_KEY\n",
    "req = requests.get(url)"
   ]
  },
  {
   "cell_type": "markdown",
   "metadata": {},
   "source": [
    "__TASK 2 - Convert the returned JSON object into a Python dictionary.__"
   ]
  },
  {
   "cell_type": "code",
   "execution_count": 6,
   "metadata": {},
   "outputs": [],
   "source": [
    "json_data = req.json()"
   ]
  },
  {
   "cell_type": "markdown",
   "metadata": {},
   "source": [
    "__TASK 3 - Calculate what the highest and lowest opening prices were for the stock in this period.__"
   ]
  },
  {
   "cell_type": "code",
   "execution_count": 7,
   "metadata": {},
   "outputs": [
    {
     "name": "stdout",
     "output_type": "stream",
     "text": [
      "The highest opening price in 2017 was $53.11 per share and occured on 2017-12-14.\n",
      "The lowest opening price in 2017 was $34.00 per share and oocurred on 2017-01-24.\n"
     ]
    }
   ],
   "source": [
    "open_dict = {row[0]: row[1] for row in json_data[\"dataset_data\"][\"data\"] if row[1] != None}\n",
    "open_max_date, open_max = max(open_dict.items(), key=lambda k: k[1])\n",
    "open_min_date, open_min = min(open_dict.items(), key=lambda k: k[1])\n",
    "\n",
    "print(\"The highest opening price in 2017 was ${0:.2f} per share and occured on {1}.\" \\\n",
    "      .format(round(open_max, 2), open_max_date))\n",
    "print(\"The lowest opening price in 2017 was ${0:.2f} per share and oocurred on {1}.\" \\\n",
    "      .format(round(open_min, 2), open_min_date))"
   ]
  },
  {
   "cell_type": "markdown",
   "metadata": {},
   "source": [
    "__TASK 4 - What was the largest change in any one day (based on High and Low price)?__"
   ]
  },
  {
   "cell_type": "code",
   "execution_count": 8,
   "metadata": {},
   "outputs": [
    {
     "name": "stdout",
     "output_type": "stream",
     "text": [
      "The largest daily price spread in 2017 was Δ$2.81 per share and occurred on 2017-05-11.\n"
     ]
    }
   ],
   "source": [
    "spread_dict = {row[0]: row[2] - row[3] for row in json_data[\"dataset_data\"][\"data\"]}\n",
    "spread_max_date, spread_max = max(spread_dict.items(), key=lambda k: k[1])\n",
    "\n",
    "print(\"The largest daily price spread in 2017 was {1}${0:.2f} per share and occurred on {2}.\" \\\n",
    "      .format(round(spread_max, 2), u'\\u0394', spread_max_date))"
   ]
  },
  {
   "cell_type": "markdown",
   "metadata": {},
   "source": [
    "__TASK 5 - What was the largest change between any two days (based on Closing Price)?__"
   ]
  },
  {
   "cell_type": "code",
   "execution_count": 9,
   "metadata": {},
   "outputs": [
    {
     "name": "stdout",
     "output_type": "stream",
     "text": [
      "The largest change between consecutive day closing prices in 2017 was Δ$2.56 per share and occurred on 2017-08-08.\n"
     ]
    }
   ],
   "source": [
    "close_delta_dict = {}\n",
    "close_prev =  json_data[\"dataset_data\"][\"data\"][0][4]\n",
    "\n",
    "for row in json_data[\"dataset_data\"][\"data\"][1:]:\n",
    "    close = row[4]\n",
    "    close_delta_dict[row[0]] = abs(close_prev - close)\n",
    "    close_prev = close\n",
    "\n",
    "close_delta_max_date, close_delta_max = max(close_delta_dict.items(), key=lambda k:k[1])\n",
    "\n",
    "print(\"The largest change between consecutive day closing prices in 2017 was {1}${0:.2f}\" \\\n",
    "      \" per share and occurred on {2}.\".format(round(close_delta_max, 2), u'\\u0394', \\\n",
    "                                               close_delta_max_date))"
   ]
  },
  {
   "cell_type": "markdown",
   "metadata": {},
   "source": [
    "__TASK 6 - What was the average daily trading volume during this year?__"
   ]
  },
  {
   "cell_type": "code",
   "execution_count": 10,
   "metadata": {},
   "outputs": [
    {
     "name": "stdout",
     "output_type": "stream",
     "text": [
      "The average daily traded volume for 2017 was 89,124.3 shares\n"
     ]
    }
   ],
   "source": [
    "volume = [row[6] for row in json_data[\"dataset_data\"][\"data\"]]\n",
    "vol_avg = sum(volume) / len(volume)\n",
    "\n",
    "print(\"The average daily traded volume for 2017 was {0:,} shares\".format(round(vol_avg, 1)))"
   ]
  },
  {
   "cell_type": "markdown",
   "metadata": {},
   "source": [
    "__TASK 7 - What was the median trading volume during this year. (Note: you may need to implement your own function for calculating the median.)__"
   ]
  },
  {
   "cell_type": "code",
   "execution_count": 11,
   "metadata": {},
   "outputs": [
    {
     "name": "stdout",
     "output_type": "stream",
     "text": [
      "The median daily traded volume for 2017 was 76,286.0 shares\n"
     ]
    }
   ],
   "source": [
    "volume = [row[6] for row in json_data[\"dataset_data\"][\"data\"]]\n",
    "vol_sorted = sorted(volume)\n",
    "\n",
    "if len(volume) % 2 != 0:\n",
    "    vol_median = vol_sorted[len(volume) // 2]\n",
    "else:\n",
    "    vol_median = (vol_sorted[len(volume) // 2 - 1] + vol_sorted[len(volume) // 2]) / 2\n",
    "\n",
    "print(\"The median daily traded volume for 2017 was {0:,} shares\".format(round(vol_median, 1)))"
   ]
  },
  {
   "cell_type": "code",
   "execution_count": null,
   "metadata": {},
   "outputs": [],
   "source": []
  }
 ],
 "metadata": {
  "kernelspec": {
   "display_name": "Python 3",
   "language": "python",
   "name": "python3"
  },
  "language_info": {
   "codemirror_mode": {
    "name": "ipython",
    "version": 3
   },
   "file_extension": ".py",
   "mimetype": "text/x-python",
   "name": "python",
   "nbconvert_exporter": "python",
   "pygments_lexer": "ipython3",
   "version": "3.7.3"
  },
  "toc": {
   "base_numbering": 1,
   "nav_menu": {},
   "number_sections": true,
   "sideBar": true,
   "skip_h1_title": false,
   "title_cell": "Table of Contents",
   "title_sidebar": "Contents",
   "toc_cell": false,
   "toc_position": {},
   "toc_section_display": true,
   "toc_window_display": false
  }
 },
 "nbformat": 4,
 "nbformat_minor": 2
}
